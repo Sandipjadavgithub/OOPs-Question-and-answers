{
 "cells": [
  {
   "cell_type": "markdown",
   "id": "3d96ac6a",
   "metadata": {},
   "source": [
    "# 1: What is OOPS?\n",
    "\n",
    "\n",
    "Ans: \n",
    "\n",
    "    OOPS stands for Object-Oriented Programming System, which is a programming based on the concept of \"objects\".\n",
    "    \n",
    "    The primary goal of OOPS is to make programming more modular, reusable, and maintainable."
   ]
  },
  {
   "cell_type": "markdown",
   "id": "2c0bfac0",
   "metadata": {},
   "source": [
    "# 2: What is a class in Python?\n",
    "\n",
    "Ans:\n",
    "\n",
    "         it is user define data structure that binds the data member and methods in to single unit\n",
    "  \n",
    "         \n",
    "         it is blueprint or code templates for object creation.\n",
    "         \n",
    "         A class is defined using the class keyword, followed by the class name, a colon, and the class body."
   ]
  },
  {
   "cell_type": "markdown",
   "id": "1261831b",
   "metadata": {},
   "source": [
    "# 3: What is a object in Python?\n",
    "\n",
    "Ans:\n",
    "\n",
    "\n",
    "    it is an instance of a class.\n",
    "    \n",
    "  there are follow property of object.\n",
    "    \n",
    "    1: Identity:\n",
    "            \n",
    "            every object must be uniq identifield means object name must be uniq. no duplicate required.\n",
    "    2: state:\n",
    "            \n",
    "            it is reffer to variavles.\n",
    "    3: Behaviour:\n",
    "    \n",
    "            an object has method which refered to function and behaviour."
   ]
  },
  {
   "cell_type": "code",
   "execution_count": null,
   "id": "3a8212f9",
   "metadata": {},
   "outputs": [],
   "source": []
  },
  {
   "cell_type": "markdown",
   "id": "a1a39b35",
   "metadata": {},
   "source": [
    "# 4: What is encapsulation in Python?\n",
    "\n",
    "Ans:    \n",
    "        \n",
    "        Encapsulation is one of the fundamental principles of object-oriented programming (OOP).\n",
    "        \n",
    "        it is used for  data and method to be hidden and protected from outside interference.\n",
    "        \n",
    "        this is the concept of wrapping data and methods that work with data in one unit. \n",
    "        \n",
    "        encapsulation is implemented using access modifiers, such as private, public, and protected.\n",
    "        \n",
    "      \n",
    "     By using these access modifiers,we can restrict the access of attributes and methods of a class from outside the class."
   ]
  },
  {
   "cell_type": "markdown",
   "id": "949e7f84",
   "metadata": {},
   "source": [
    "# 5: What is inheritance in Python?\n",
    "\n",
    "Ans:\n",
    "\n",
    "\n",
    "    Inheritance allows us to define a class that inherits all the methods and properties from another class.\n",
    "\n",
    "    Parent class is  also called base class.\n",
    "\n",
    "    Child class is the class that inherits from parent class, also called derived class."
   ]
  },
  {
   "cell_type": "markdown",
   "id": "188d6709",
   "metadata": {},
   "source": [
    " # 6: What is polymorphism in Python?\n",
    " \n",
    " Ans:\n",
    " \n",
    "    Polymorphism refers to having multiple forms. \n",
    "    \n",
    "    Polymorphism is  refers to the use of the same function name, but with  \n",
    "    \n",
    "    different signatures, for multiple types.\n",
    "   "
   ]
  },
  {
   "cell_type": "markdown",
   "id": "55dbacba",
   "metadata": {},
   "source": [
    "# 7:What is an abstraction in Python?\n",
    "\n",
    "Ans: \n",
    "\n",
    "    Abstraction is the process of hiding complex implementation information  and providing a simpler interface for the user. \n",
    "    \n",
    "    abstraction is implemented using abstract classes and interfaces.\n",
    "    \n",
    "    abstraction is used to hide the irrelevant data.\n",
    "  "
   ]
  },
  {
   "cell_type": "markdown",
   "id": "31e44bbd",
   "metadata": {},
   "source": [
    "# 8:What is a constructor in Python?\n",
    "\n",
    "Ans:\n",
    "\n",
    "\n",
    "     it is special type of method which calls automatically when object of the class is created\n",
    "     \n",
    "     using the_init_(): this is constructor in python. it is used to initialize the object."
   ]
  },
  {
   "cell_type": "markdown",
   "id": "3c1c9aeb",
   "metadata": {},
   "source": [
    "# 9:What is a destructor in Python?\n",
    "\n",
    "Ans:\n",
    "\n",
    "    destructor is a special method that is automatically called when an object is about to be destroyed or removed from memory\n",
    "    \n",
    "    the destructor method is named \"del()\" and it takes only the \"self\" parameter.\n",
    "    \n",
    "    The __del__() function is used as the destructor function in Python.\n",
    "    \n",
    "    The user can call the __del__() function when all the references of the object have been deleted.\n",
    "    \n",
    "    "
   ]
  },
  {
   "cell_type": "markdown",
   "id": "d102f958",
   "metadata": {},
   "source": [
    "# 10:What is the difference between instance and class variables in Python?\n",
    "\n",
    "\n",
    "Ans:\n",
    "\n",
    " ### Instance variables:\n",
    " \n",
    "    instance  variables  are unique to each instance of a class. \n",
    "    They are created and initialized inside the constructor method \"init()\" and can be accessed using the \"self\" keyword. \n",
    "    Instance variables have different values for all object of the class.\n",
    " \n",
    " ### class variables:\n",
    " \n",
    "    class variables are variables that are shared  all instances of a class.\n",
    "    They are defined outside the constructor method and can be accessed using the class name or the \"cls\" keyword.\n",
    "    Class variables have the same value for all objects of the class.\n",
    " "
   ]
  },
  {
   "cell_type": "code",
   "execution_count": 13,
   "id": "22876d7d",
   "metadata": {},
   "outputs": [
    {
     "name": "stdout",
     "output_type": "stream",
     "text": [
      "10\n"
     ]
    }
   ],
   "source": [
    "# class variable :\n",
    "\n",
    "class hello:\n",
    "    x=10\n",
    "    @classmethod\n",
    "    \n",
    "    def clss(cls):\n",
    "    \n",
    "             print(cls.x)\n",
    "    \n",
    "hello.clss() \n",
    "    \n"
   ]
  },
  {
   "cell_type": "markdown",
   "id": "7bcf7356",
   "metadata": {},
   "source": [
    "# 11: What is the difference between public, private, and protected access specifiers in Python?\n",
    "\n",
    "Ans: \n",
    "\n",
    "\n",
    " ### Public:\n",
    " \n",
    "      Public attributes are accessible from anywhere, both inside and outside the class.\n",
    "      \n",
    "      public attributes are named with a single leading underscore, for example \"_name\".\n",
    "      \n",
    " ### Private:\n",
    " \n",
    "     Private attributes are to be accessed only within the class.\n",
    "     private attributes are named with a double leading underscore,  for example \"__name\".\n",
    "     \n",
    " ### Protedcted:\n",
    " \n",
    "     Protected attributes are to be accessed only within the class and its subclasses.\n",
    "     protected attributes are named with a single leading underscore, for example \"_name\"."
   ]
  },
  {
   "cell_type": "code",
   "execution_count": 15,
   "id": "b047a7ca",
   "metadata": {},
   "outputs": [
    {
     "name": "stdout",
     "output_type": "stream",
     "text": [
      "Name: Sandip\n",
      "Age: 23\n"
     ]
    }
   ],
   "source": [
    "#public\n",
    "\n",
    "class pub:\n",
    "    def __init__(self,name,age):\n",
    "        self.yourname=name\n",
    "        self.yourage=age\n",
    "    def show(self):\n",
    "        print(\"Name:\",self.yourname)\n",
    "        print(\"Age:\",self.yourage)\n",
    "        \n",
    "obj=pub(\"Sandip\",23)\n",
    "obj.show()"
   ]
  },
  {
   "cell_type": "code",
   "execution_count": 27,
   "id": "fec103f4",
   "metadata": {},
   "outputs": [
    {
     "name": "stdout",
     "output_type": "stream",
     "text": [
      "Name: 23\n",
      "Age: sandip\n"
     ]
    }
   ],
   "source": [
    "#private\n",
    "\n",
    "class pri:\n",
    "    def __init__(self,name,age):\n",
    "        self.__yourname=name#private attribute\n",
    "        self.__yourage=age\n",
    "    def show(self):\n",
    "        print(\"Name:\",self.__yourname)\n",
    "        print(\"Age:\",self.__yourage)\n",
    "obj=pri(23,\"sandip\")\n",
    "obj.show()"
   ]
  },
  {
   "cell_type": "code",
   "execution_count": 26,
   "id": "39e193c3",
   "metadata": {},
   "outputs": [
    {
     "name": "stdout",
     "output_type": "stream",
     "text": [
      "Name: 23\n",
      "Age: sandip\n"
     ]
    }
   ],
   "source": [
    "#protected\n",
    "\n",
    "class pri:\n",
    "    def __init__(self,name,age):\n",
    "        self._yourname=name#protected attribute\n",
    "        self._yourage=age\n",
    "    def show(self):\n",
    "        print(\"Name:\",self._yourname)\n",
    "        print(\"Age:\",self._yourage)\n",
    "obj=pri(23,\"sandip\")\n",
    "obj.show()"
   ]
  },
  {
   "cell_type": "markdown",
   "id": "4b5f59b9",
   "metadata": {},
   "source": [
    "# 12:  What is method overloading in Python?\n",
    "\n",
    "Ans:\n",
    "\n",
    "    method overloading is an  compile-time polymorphism. \n",
    "    \n",
    "    It allows defining multiple methods with the same name but different parameters.\n",
    "    \n",
    "    inheritance is not required\n",
    "\n",
    "    "
   ]
  },
  {
   "cell_type": "code",
   "execution_count": 3,
   "id": "992a5863",
   "metadata": {},
   "outputs": [
    {
     "name": "stdout",
     "output_type": "stream",
     "text": [
      "60\n"
     ]
    }
   ],
   "source": [
    "def product(a,b):\n",
    "    c=a+b\n",
    "    print(c)\n",
    "def product(a,b,c):\n",
    "       \n",
    "        c=a+b+c\n",
    "\n",
    "        print(c)\n",
    "\n",
    "product(10,20,30)"
   ]
  },
  {
   "cell_type": "markdown",
   "id": "d265c8e6",
   "metadata": {},
   "source": [
    "# 13: What is method overiding in Python?\n",
    "\n",
    "Ans:\n",
    "\n",
    "    method overiding is an run-time polymorphism.\n",
    "    \n",
    "    it allow defining multiple method with same name as same parameters.\n",
    "    \n",
    "    inheritance is required."
   ]
  },
  {
   "cell_type": "code",
   "execution_count": 5,
   "id": "55fdca39",
   "metadata": {},
   "outputs": [
    {
     "name": "stdout",
     "output_type": "stream",
     "text": [
      "father home\n",
      "son home\n"
     ]
    }
   ],
   "source": [
    "class father:\n",
    "    def home(self):\n",
    "        print(\"father home\")\n",
    "class son(father):\n",
    "    def home(self):\n",
    "        super().home()\n",
    "        print(\"son home\")\n",
    "obj=son()\n",
    "obj.home()\n"
   ]
  },
  {
   "cell_type": "markdown",
   "id": "987a03e1",
   "metadata": {},
   "source": [
    "# 14: What is a static method in Python?\n",
    "\n",
    "Ans:\n",
    "\n",
    "    A static method is a method that belongs to a class and not to an instance of the class.\n",
    "    It is bound to the class and not the create of object of the class.\n",
    "    it can be called without creating  object of the class."
   ]
  },
  {
   "cell_type": "code",
   "execution_count": 2,
   "id": "5a6d032c",
   "metadata": {},
   "outputs": [
    {
     "name": "stdout",
     "output_type": "stream",
     "text": [
      "enter a number:11\n",
      "odd number\n"
     ]
    }
   ],
   "source": [
    "class son:\n",
    "    @staticmethod\n",
    "    def odd_even(n):\n",
    "        if n%2==0:\n",
    "            print(\"even number\")\n",
    "        else:\n",
    "            print(\"odd number\")\n",
    "s=son()\n",
    "n=int(input(\"enter a number:\"))\n",
    "s.odd_even(n)\n",
    "        "
   ]
  },
  {
   "cell_type": "code",
   "execution_count": 14,
   "id": "abfdb81e",
   "metadata": {},
   "outputs": [
    {
     "name": "stdout",
     "output_type": "stream",
     "text": [
      "10\n"
     ]
    }
   ],
   "source": [
    "class hello:\n",
    "    x=10\n",
    "    @classmethod\n",
    "    \n",
    "    def clss(cls):\n",
    "    \n",
    "             print(cls.x)\n",
    "    \n",
    "hello.clss() \n",
    "    \n"
   ]
  },
  {
   "cell_type": "markdown",
   "id": "40eabb3b",
   "metadata": {},
   "source": [
    "# 15: What is a class method in Python?\n",
    "Ans: \n",
    "\n",
    "\n",
    "     The classmethod() methods are bound to a class rather than an object.\n",
    "     \n",
    "     Class methods can be called by both class and object. \n",
    "     \n",
    "     class methods can be called with a class or with an object. "
   ]
  },
  {
   "cell_type": "code",
   "execution_count": 17,
   "id": "9334da29",
   "metadata": {},
   "outputs": [
    {
     "name": "stdout",
     "output_type": "stream",
     "text": [
      "name: sandip\n",
      "name: sandip\n"
     ]
    }
   ],
   "source": [
    "class hello:\n",
    "    name=\"sandip\"\n",
    "    @classmethod\n",
    "    def intro(cls):\n",
    "        print(\"name:\",cls.name)\n",
    "        \n",
    "hello.intro()#class name access\n",
    "a=hello()#object create access\n",
    "a.intro()"
   ]
  },
  {
   "cell_type": "markdown",
   "id": "71ec82f7",
   "metadata": {},
   "source": [
    "# 16: What is a super() function in Python?\n",
    "\n",
    "Ans:  \n",
    "\n",
    "     The super() function is a built-in function in Python that allows you to call a method in a superclass from a subclass. \n",
    "     super function is provides a way to access the methods and attributes of a superclass. \n",
    "     The super() function returns a temporary object of the superclass.\n",
    "    "
   ]
  },
  {
   "cell_type": "code",
   "execution_count": 18,
   "id": "78e2ff0b",
   "metadata": {},
   "outputs": [],
   "source": [
    "#super()"
   ]
  },
  {
   "cell_type": "code",
   "execution_count": 26,
   "id": "4ece0552",
   "metadata": {},
   "outputs": [
    {
     "name": "stdout",
     "output_type": "stream",
     "text": [
      "Name: Sandip\n",
      "Surname: jadav\n"
     ]
    }
   ],
   "source": [
    "class A:\n",
    "    def intro(self):\n",
    "        self.name=\"Sandip\"\n",
    "        self.surname=\"jadav\"\n",
    "class B(A):\n",
    "    def intro(self):\n",
    "        super().intro()#super function\n",
    "        print(\"Name:\",self.name)\n",
    "        print(\"Surname:\",self.surname)\n",
    "        \n",
    "x=B()\n",
    "x.intro()"
   ]
  },
  {
   "cell_type": "code",
   "execution_count": null,
   "id": "7840f2a0",
   "metadata": {},
   "outputs": [],
   "source": []
  }
 ],
 "metadata": {
  "kernelspec": {
   "display_name": "Python 3 (ipykernel)",
   "language": "python",
   "name": "python3"
  },
  "language_info": {
   "codemirror_mode": {
    "name": "ipython",
    "version": 3
   },
   "file_extension": ".py",
   "mimetype": "text/x-python",
   "name": "python",
   "nbconvert_exporter": "python",
   "pygments_lexer": "ipython3",
   "version": "3.11.5"
  }
 },
 "nbformat": 4,
 "nbformat_minor": 5
}
